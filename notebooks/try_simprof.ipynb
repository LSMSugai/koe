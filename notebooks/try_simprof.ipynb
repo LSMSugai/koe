{
 "cells": [
  {
   "cell_type": "code",
   "execution_count": 46,
   "metadata": {},
   "outputs": [],
   "source": [
    "%matplotlib inline\n",
    "import matplotlib.pyplot as plt\n",
    "from mpl_toolkits.mplot3d import Axes3D\n",
    "from sklearn import datasets\n",
    "from sklearn.decomposition import PCA\n",
    "from scipy.cluster.hierarchy import cut_tree\n",
    "from scipy.cluster.hierarchy import linkage\n",
    "from scipy.spatial.distance import pdist\n",
    "from scipy.stats import zscore, ttest_1samp\n",
    "\n",
    "# import some data to play with\n",
    "iris = datasets.load_iris()\n",
    "X = iris.data\n",
    "y = iris.target\n",
    "\n",
    "# X = PCA(n_components=3).fit_transform(X)\n",
    "\n",
    "dist_triu = pdist(X)"
   ]
  },
  {
   "cell_type": "code",
   "execution_count": 47,
   "metadata": {},
   "outputs": [
    {
     "name": "stdout",
     "output_type": "stream",
     "text": [
      "Considering 150 classes\n",
      "Considering 78 classes\n",
      "Considering 50 classes\n",
      "Considering 29 classes\n",
      "Considering 28 classes\n",
      "Considering 19 classes\n",
      "p_value is 0.0\n",
      "Considering 11 classes\n",
      "p_value is 0.71\n",
      "Considering 8 classes\n",
      "p_value is 0.81\n",
      "Considering 9 classes\n",
      "p_value is 0.05\n",
      "Considering 1 classes\n",
      "Considering 21 classes\n",
      "Considering 16 classes\n",
      "p_value is 0.68\n",
      "Considering 5 classes\n",
      "p_value is 0.85\n",
      "Considering 28 classes\n",
      "Considering 24 classes\n",
      "Considering 23 classes\n",
      "Considering 1 classes\n",
      "Considering 4 classes\n",
      "p_value is 0.05\n",
      "Considering 72 classes\n",
      "Considering 60 classes\n",
      "Considering 38 classes\n",
      "Considering 22 classes\n",
      "Considering 12 classes\n",
      "p_value is 0.18\n"
     ]
    },
    {
     "data": {
      "image/png": "[encoded data removed]",
      "text/plain": [
       "<Figure size 1296x1296 with 1 Axes>"
      ]
     },
     "metadata": {
      "needs_background": "light"
     },
     "output_type": "display_data"
    }
   ],
   "source": [
    "import numpy as np\n",
    "from koe.management.utils.matplotlib_utils import show_highlighed_cls_syllables, plot_dendrogram\n",
    "from koe.management.abstract_commands.run_symprof import PcaPermuter\n",
    "\n",
    "def calc_ranking(class_measures):\n",
    "    class_dist = pdist(class_measures)\n",
    "    sorted_dist = np.sort(class_dist)\n",
    "    return sorted_dist\n",
    "\n",
    "\n",
    "def is_variance_structural(measures, dist_triu, permuter, significance, ntrials):\n",
    "    if measures.shape[1] < 3:\n",
    "        return False\n",
    "\n",
    "    observed_dist_variance = np.var(dist_triu, axis=0)\n",
    "    observed_dist_variance_sorted = np.sort(observed_dist_variance)\n",
    "    simulated_dist_variances_sorted = np.ndarray((ntrials, observed_dist_variance_sorted.shape[0]))\n",
    "\n",
    "    for i in range(ntrials):\n",
    "        new_class_measures = permuter.permute(measures)\n",
    "        class_dist_triu = pdist(new_class_measures)\n",
    "        simulated_dist_variances_sorted_ = np.var(class_dist_triu, axis=0)\n",
    "\n",
    "    t_value, p_value = ttest_1samp(dist_variances, observed_dist_variance)\n",
    "\n",
    "    # # mean_random_deviations is an array of ntrials elements\n",
    "    # mean_random_deviations = np.sum(random_deviations, axis=1)\n",
    "    #\n",
    "    # observed_deviation = np.sum(np.abs(original_rankings - trial_mean))\n",
    "    #\n",
    "    # # Tree is structural if the real rankings are different from a random draw from permuted rankings\n",
    "    # # that is, if there are less than x% (e.g. 5%) of random deviations larger than the observed deviation\n",
    "\n",
    "    # p_value = np.sum(mean_random_deviations > observed_deviation) / ntrials\n",
    "    # if measures.shape[0] <= 20:\n",
    "#     print('p_value = {}, t_value={}'.format(p_value, t_value))\n",
    "    return p_value < significance\n",
    "\n",
    "\n",
    "def are_rankings_structural(measures, dist_triu, permuter, significance, ntrials):\n",
    "    if len(dist_triu) < 3:\n",
    "        return False\n",
    "    original_rankings = np.sort(dist_triu)\n",
    "    rankings = np.ndarray((ntrials, original_rankings.shape[0]))\n",
    "    for i in range(ntrials):\n",
    "        new_class_measures = permuter.permute(measures)\n",
    "        rankings[i, :] = calc_ranking(new_class_measures)\n",
    "\n",
    "    # Trial_mean is an array of len(dist_triu) elements, so is trial_std and random_deviations\n",
    "    trial_mean = np.mean(rankings, axis=0)\n",
    "    random_deviations = np.abs(rankings - trial_mean)\n",
    "\n",
    "    # mean_random_deviations is an array of ntrials elements\n",
    "    mean_random_deviations = np.sum(random_deviations, axis=1)\n",
    "\n",
    "    observed_deviation = np.sum(np.abs(original_rankings - trial_mean))\n",
    "\n",
    "    # Tree is structural if the real rankings are different from a random draw from permuted rankings\n",
    "    # that is, if there are less than x% (e.g. 5%) of random deviations larger than the observed deviation\n",
    "\n",
    "    p_value = np.sum(mean_random_deviations > observed_deviation) / ntrials\n",
    "    if measures.shape[0] <= 20:\n",
    "        print('p_value is {}'.format(p_value))\n",
    "    return p_value < significance\n",
    "\n",
    "\n",
    "\n",
    "def cut_tree_get_leaves(tree, height):\n",
    "    cluster = cut_tree(tree, height=height)\n",
    "    leaves = []\n",
    "    nleaves = cluster.max() + 1\n",
    "    for i in range(nleaves):\n",
    "        leaf_class_inds = np.where(cluster == i)[0]\n",
    "        leaves.append(leaf_class_inds)\n",
    "    return leaves\n",
    "\n",
    "\n",
    "\n",
    "def recursive_simprof(global_measures, permuter, global_cls_inds, clusters, min_cluster_size=3, max_deviation=0.05,\n",
    "                      ntrials=100, is_structural=is_variance_structural):\n",
    "    print('Considering {} classes'.format(len(global_cls_inds)))\n",
    "    if global_cls_inds.shape[0] < min_cluster_size:\n",
    "        clusters.append(global_cls_inds)\n",
    "        return\n",
    "\n",
    "    local_measures = global_measures[global_cls_inds, :]\n",
    "    local_to_global_inds = {l: g for l, g in enumerate(global_cls_inds)}\n",
    "\n",
    "    dist_triu = pdist(local_measures)\n",
    "    local_tree = linkage(dist_triu, method='complete')\n",
    "    cutoff = local_tree[:, 2].max()\n",
    "\n",
    "    if is_structural(local_measures, dist_triu, permuter, max_deviation, ntrials):\n",
    "        leaves = cut_tree_get_leaves(local_tree, cutoff)\n",
    "        for leaf_class_inds in leaves:\n",
    "            leaf_class_global_inds = np.array([local_to_global_inds[i] for i in leaf_class_inds])\n",
    "            recursive_simprof(global_measures, permuter, leaf_class_global_inds, clusters, min_cluster_size,\n",
    "                              max_deviation, ntrials, is_structural)\n",
    "    else:\n",
    "        clusters.append(global_cls_inds)\n",
    "\n",
    "\n",
    "tree = linkage(dist_triu, method='complete')\n",
    "\n",
    "inital_inds = np.arange(len(y))\n",
    "clusters = []\n",
    "nclasses, nfeatures = X.shape\n",
    "permuter = PcaPermuter(nfeatures)\n",
    "recursive_simprof(X, permuter, inital_inds, clusters, max_deviation=0.05, is_structural=is_variance_structural)\n",
    "\n",
    "plot_dendrogram(tree, 'blah', label_arr=y, clusters=clusters)"
   ]
  },
  {
   "cell_type": "code",
   "execution_count": 37,
   "metadata": {},
   "outputs": [
    {
     "data": {
      "text/plain": [
       "(150, 4)"
      ]
     },
     "execution_count": 37,
     "metadata": {},
     "output_type": "execute_result"
    }
   ],
   "source": [
    "iris.data.shape"
   ]
  },
  {
   "cell_type": "code",
   "execution_count": null,
   "metadata": {},
   "outputs": [],
   "source": []
  }
 ],
 "metadata": {
  "kernelspec": {
   "display_name": "Django Shell-Plus",
   "language": "python",
   "name": "django_extensions"
  },
  "language_info": {
   "codemirror_mode": {
    "name": "ipython",
    "version": 3
   },
   "file_extension": ".py",
   "mimetype": "text/x-python",
   "name": "python",
   "nbconvert_exporter": "python",
   "pygments_lexer": "ipython3",
   "version": "3.6.8"
  }
 },
 "nbformat": 4,
 "nbformat_minor": 2
}
