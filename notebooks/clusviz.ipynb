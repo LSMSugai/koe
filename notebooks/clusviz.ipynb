{
 "cells": [
  {
   "cell_type": "code",
   "execution_count": 6,
   "metadata": {},
   "outputs": [
    {
     "data": {
      "text/html": [
       "<iframe id=\"igraph\" scrolling=\"no\" style=\"border:none;\" seamless=\"seamless\" src=\"https://plot.ly/~crazyfffan/38.embed\" height=\"525px\" width=\"100%\"></iframe>"
      ],
      "text/plain": [
       "<plotly.tools.PlotlyDisplay object>"
      ]
     },
     "execution_count": 6,
     "metadata": {},
     "output_type": "execute_result"
    }
   ],
   "source": [
    "import plotly.plotly as py\n",
    "import plotly.graph_objs as go\n",
    "\n",
    "import numpy as np\n",
    "import csv\n",
    "\n",
    "from scipy.io import loadmat\n",
    "from dotmap import DotMap\n",
    "from scipy.stats import zscore\n",
    "\n",
    "saved = DotMap(loadmat('/Users/yfukuzaw/tmp/bellbird-tmi.mat'))\n",
    "label_type = 'label_family'\n",
    "with open('/tmp/bellbird_tmi_all.csv', 'r', encoding='utf-8') as f:\n",
    "    reader = csv.DictReader(f, delimiter='\\t')\n",
    "    supplied_fields = reader.fieldnames\n",
    "    required_fields = ['id', label_type]\n",
    "    missing_fields = [x for x in required_fields if x not in supplied_fields]\n",
    "\n",
    "    if missing_fields:\n",
    "        raise ValueError('Field(s) {} are required but not found in your CSV file'\n",
    "                         .format(','.join(missing_fields)))\n",
    "                \n",
    "    sid_to_label = {int(row['id']): row[label_type] for row in reader}\n",
    "    \n",
    "    \n",
    "sids = saved.sids.ravel()\n",
    "dataset = saved.dataset\n",
    "clusters = saved.clusters\n",
    "meas = zscore(dataset)\n",
    "labels = np.array([sid_to_label.get(sid, '') for sid in sids])\n",
    "fnames = saved.fnames\n",
    "haslabel_ind = np.where(labels!='')[0]\n",
    "\n",
    "labels = labels[haslabel_ind]\n",
    "dataset = dataset[haslabel_ind, :]\n",
    "meas = meas[haslabel_ind, :]\n",
    "sids = sids[haslabel_ind]\n",
    "clusters = clusters[haslabel_ind, :]\n",
    "\n",
    "unique_labels = np.unique(labels)\n",
    "traces = []\n",
    "for label in unique_labels:\n",
    "    ind = np.where(labels==label)\n",
    "    x = clusters[ind, 0].ravel();\n",
    "    y = clusters[ind, 1].ravel();\n",
    "    z = clusters[ind, 2].ravel();\n",
    "    ids = sids[ind];\n",
    "    \n",
    "    trace1 = go.Scatter3d(\n",
    "        x=x,\n",
    "        y=y,\n",
    "        z=z,\n",
    "        name=label.strip(),\n",
    "        mode='markers',\n",
    "        marker=dict(\n",
    "            size=5,\n",
    "            line=dict(\n",
    "                width=0.5\n",
    "            ),\n",
    "            opacity=1\n",
    "        ),\n",
    "        text=ids\n",
    "    )\n",
    "    traces.append(trace1)\n",
    "layout = go.Layout(\n",
    "    margin=dict(\n",
    "        l=0,\n",
    "        r=0,\n",
    "        b=0,\n",
    "        t=0\n",
    "    )\n",
    ")\n",
    "fig = go.Figure(data=traces, layout=layout)\n",
    "py.iplot(fig, filename='tmi-by-family')"
   ]
  },
  {
   "cell_type": "code",
   "execution_count": 2,
   "metadata": {},
   "outputs": [],
   "source": [
    "import pandas as pd\n",
    "frame=pd.DataFrame(meas, columns=fnames, index=sids)\n",
    "frame.to_csv(\"/tmp/tmi-full-features.csv\", sep='\\t')"
   ]
  },
  {
   "cell_type": "code",
   "execution_count": 7,
   "metadata": {},
   "outputs": [
    {
     "data": {
      "text/plain": [
       "['id', 'label', 'label_family', 'label_subfamily', 'Gender']"
      ]
     },
     "execution_count": 7,
     "metadata": {},
     "output_type": "execute_result"
    }
   ],
   "source": [
    "supplied_fields"
   ]
  },
  {
   "cell_type": "code",
   "execution_count": null,
   "metadata": {},
   "outputs": [],
   "source": []
  }
 ],
 "metadata": {
  "kernelspec": {
   "display_name": "Python 3",
   "language": "python",
   "name": "python3"
  },
  "language_info": {
   "codemirror_mode": {
    "name": "ipython",
    "version": 3
   },
   "file_extension": ".py",
   "mimetype": "text/x-python",
   "name": "python",
   "nbconvert_exporter": "python",
   "pygments_lexer": "ipython3",
   "version": "3.6.3"
  }
 },
 "nbformat": 4,
 "nbformat_minor": 1
}
