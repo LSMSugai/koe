{
 "cells": [
  {
   "cell_type": "code",
   "execution_count": 25,
   "metadata": {},
   "outputs": [
    {
     "name": "stdout",
     "output_type": "stream",
     "text": [
      "9fc0cd0706914a62b41f67b9360d8833: https://plot.ly/~6X5uQKc1/28\n"
     ]
    }
   ],
   "source": [
    "import os\n",
    "import numpy as np\n",
    "\n",
    "from django.conf import settings\n",
    "from collections import Counter\n",
    "\n",
    "from koe.models import *\n",
    "from koe.model_utils import get_or_error\n",
    "from koe.ts_utils import bytes_to_ndarray, get_rawdata_from_binary\n",
    "\n",
    "\n",
    "import plotly.plotly as py\n",
    "import plotly.graph_objs as go\n",
    "\n",
    "import plotly\n",
    "\n",
    "\n",
    "def get_labels_by_sids(sids, label_level, annotator, min_occur):\n",
    "    sid2lbl = {\n",
    "        x: y.lower() for x, y in ExtraAttrValue.objects\n",
    "        .filter(attr__name=label_level, owner_id__in=sids, user=annotator)\n",
    "        .values_list('owner_id', 'value')\n",
    "    }\n",
    "\n",
    "    occurs = Counter(sid2lbl.values())\n",
    "\n",
    "    segment_to_labels = {}\n",
    "    for segid, label in sid2lbl.items():\n",
    "        if occurs[label] >= min_occur:\n",
    "            segment_to_labels[segid] = label\n",
    "\n",
    "    labels = []\n",
    "    no_label_ids = []\n",
    "    for id in sids:\n",
    "        label = segment_to_labels.get(id, None)\n",
    "        if label is None:\n",
    "            no_label_ids.append(id)\n",
    "            labels.append('__NONE__')\n",
    "        else:\n",
    "            labels.append(label)\n",
    "\n",
    "    return np.array(labels), np.array(no_label_ids, dtype=np.int32)\n",
    "\n",
    "\n",
    "tensor_name = '9fc0cd0706914a62b41f67b9360d8833'\n",
    "tensor = get_or_error(DerivedTensorData, dict(name=tensor_name))\n",
    "database_name = tensor.database.name\n",
    "annotator = tensor.annotator\n",
    "label_level = 'label'\n",
    "\n",
    "bytes_path = os.path.join(settings.BASE_DIR, tensor.get_bytes_path())\n",
    "if not os.path.isfile(bytes_path):\n",
    "    bytes_path = os.path.join(settings.BASE_DIR, tensor.full_tensor.get_bytes_path())\n",
    "    \n",
    "full_sids_path = os.path.join(settings.BASE_DIR, tensor.full_tensor.get_sids_path())\n",
    "sids = bytes_to_ndarray(full_sids_path, np.int32)\n",
    "coordinate = get_rawdata_from_binary(bytes_path, len(sids))\n",
    "\n",
    "labels, no_label_ids = get_labels_by_sids(sids, label_level, annotator, 1)\n",
    "\n",
    "unique_labels = np.unique(labels)\n",
    "ndims = min(coordinate.shape[1], 3)\n",
    "scatterClass = go.Scatter3d\n",
    "if ndims == 2:\n",
    "    scatterClass = go.Scatter\n",
    "\n",
    "\n",
    "traces = []\n",
    "for label in unique_labels:\n",
    "    ind = np.where(labels==label)\n",
    "    x = coordinate[ind, 0].ravel();\n",
    "    y = coordinate[ind, 1].ravel();\n",
    "\n",
    "    coords = dict(\n",
    "        x=coordinate[ind, 0].ravel(),\n",
    "        y=coordinate[ind, 1].ravel()\n",
    "    )\n",
    "    if ndims == 3:\n",
    "        coords['z'] = coordinate[ind, 2].ravel()\n",
    "\n",
    "    ids = sids[ind];\n",
    "\n",
    "    trace = scatterClass(\n",
    "        name=label.strip(),\n",
    "        mode='markers',\n",
    "        marker=dict(\n",
    "            size=5,\n",
    "            line=dict(\n",
    "                width=0.5\n",
    "            ),\n",
    "            opacity=1\n",
    "        ),\n",
    "        text=ids,\n",
    "        **coords\n",
    "    )\n",
    "    traces.append(trace)\n",
    "layout = go.Layout(\n",
    "    hovermode='closest',\n",
    "    title=tensor_name,\n",
    "    margin=dict(\n",
    "        l=0,\n",
    "        r=0,\n",
    "        b=0,\n",
    "        t=0\n",
    "    )\n",
    ")\n",
    "fig = go.Figure(data=traces, layout=layout)\n",
    "plot = py.iplot(fig, filename=tensor_name)\n",
    "print('{}: {}'.format(tensor_name, plot.resource))"
   ]
  },
  {
   "cell_type": "code",
   "execution_count": 3,
   "metadata": {},
   "outputs": [],
   "source": [
    "import colorlover as cl"
   ]
  },
  {
   "cell_type": "code",
   "execution_count": 21,
   "metadata": {},
   "outputs": [
    {
     "data": {
      "text/plain": [
       "['rgb(158,1,66)',\n",
       " 'rgb(213,62,79)',\n",
       " 'rgb(244,109,67)',\n",
       " 'rgb(253,174,97)',\n",
       " 'rgb(254,224,139)',\n",
       " 'rgb(255,255,191)',\n",
       " 'rgb(230,245,152)',\n",
       " 'rgb(171,221,164)',\n",
       " 'rgb(102,194,165)',\n",
       " 'rgb(50,136,189)',\n",
       " 'rgb(94,79,162)']"
      ]
     },
     "execution_count": 21,
     "metadata": {},
     "output_type": "execute_result"
    }
   ],
   "source": [
    "list(cl.scales['11']['div']['Spectral'])"
   ]
  },
  {
   "cell_type": "code",
   "execution_count": null,
   "metadata": {},
   "outputs": [],
   "source": [
    ""
   ]
  }
 ],
 "metadata": {
  "kernelspec": {
   "display_name": "Django Shell-Plus",
   "language": "python",
   "name": "django_extensions"
  },
  "language_info": {
   "codemirror_mode": {
    "name": "ipython",
    "version": 3.0
   },
   "file_extension": ".py",
   "mimetype": "text/x-python",
   "name": "python",
   "nbconvert_exporter": "python",
   "pygments_lexer": "ipython3",
   "version": "3.6.6"
  }
 },
 "nbformat": 4,
 "nbformat_minor": 0
}