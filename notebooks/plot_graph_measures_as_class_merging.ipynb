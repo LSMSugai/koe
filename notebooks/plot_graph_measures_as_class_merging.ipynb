{
 "cells": [
  {
   "cell_type": "code",
   "execution_count": null,
   "metadata": {},
   "outputs": [],
   "source": [
    "import pandas as pd\n",
    "import numpy as np\n",
    "\n",
    "from scipy.stats import zscore\n",
    "from sklearn.preprocessing import normalize\n",
    "    \n",
    "# data = pd.read_csv(\"/Users/yfukuzaw/workspace/koe/tmi-asc-unlabel-nxfeature-weighted.tsv\", sep='\\t')\n",
    "data = pd.read_csv(\"/tmp/blah6.tsv\", sep='\\t')\n",
    "header = data.columns"
   ]
  },
  {
   "cell_type": "code",
   "execution_count": null,
   "metadata": {},
   "outputs": [],
   "source": [
    "def normalized(a, axis=0):\n",
    "    a_min = np.min(a, axis=axis)\n",
    "    a_max = np.max(a, axis=axis)\n",
    "    return (a - a_min) / (a_max - a_min)\n",
    "\n",
    "def get_columns(data, column_prefix=None, column_suffix=None, index_col_name='Cutoff', normalise=True):\n",
    "    if column_prefix is None and column_suffix is None:\n",
    "        raise Exception('column_prefix and column_suffix cannot be both None')\n",
    "    columns = {index_col_name:data[index_col_name],}\n",
    "    for colname in header:\n",
    "        name_to_add = None\n",
    "#         print('column_prefix = ' + column_prefix + ' colname = ' + colname)\n",
    "        if column_prefix is not None and colname.startswith(column_prefix):\n",
    "            name_to_add = colname[len(column_prefix):]\n",
    "#             print('name_to_add = ' + name_to_add)\n",
    "        if column_suffix is not None and colname.endswith(column_suffix):\n",
    "            if name_to_add is None:\n",
    "                name_to_add = colname\n",
    "            name_to_add = name_to_add[:len(name_to_add)-len(column_suffix)]\n",
    "        if name_to_add is not None:\n",
    "            if column_prefix is not None and name_to_add == '':\n",
    "                name_to_add = column_prefix\n",
    "#                 print('name_to_add = ' + name_to_add)\n",
    "            elif column_suffix is not None and name_to_add == '':\n",
    "                name_to_add = column_suffix\n",
    "            \n",
    "            if name_to_add[0] == '_':\n",
    "                name_to_add = name_to_add[1:]\n",
    "            if name_to_add[-1] == '_':\n",
    "                name_to_add = name_to_add[:-1]\n",
    "            if normalise:\n",
    "                columns[name_to_add] = normalized(data[colname], axis=0)\n",
    "            else:\n",
    "                columns[name_to_add] = data[colname]\n",
    "    return pd.DataFrame(columns)\n",
    "    "
   ]
  },
  {
   "cell_type": "code",
   "execution_count": null,
   "metadata": {},
   "outputs": [],
   "source": [
    "%matplotlib inline\n",
    "import matplotlib.pyplot as plt\n",
    "from matplotlib.backends.backend_pdf import PdfPages\n",
    "\n",
    "def set_size(w,h, ax=None):\n",
    "    \"\"\" w, h: width, height in inches \"\"\"\n",
    "    if not ax: ax=plt.gca()\n",
    "    l = ax.figure.subplotpars.left\n",
    "    r = ax.figure.subplotpars.right\n",
    "    t = ax.figure.subplotpars.top\n",
    "    b = ax.figure.subplotpars.bottom\n",
    "    figw = float(w)/(r-l)\n",
    "    figh = float(h)/(t-b)\n",
    "    ax.figure.set_size_inches(figw, figh)\n",
    "    \n",
    "def plot_figure_by_type(index_col_name, figure_type, is_prefix, normalise=True, pdf=None):\n",
    "    if pdf is None:\n",
    "        plt.ion()\n",
    "    else:\n",
    "        plt.ioff()\n",
    "    fig = plt.figure()\n",
    "    ax = plt.gca()\n",
    "    if is_prefix:\n",
    "        prefix = figure_type\n",
    "        suffix = None\n",
    "    else:\n",
    "        prefix = None\n",
    "        suffix = figure_type\n",
    "    \n",
    "    ax.set_title(figure_type)\n",
    "    set_size(14,8, ax)\n",
    "    df = get_columns(data, prefix, suffix, index_col_name, normalise)\n",
    "    for column in df.head():\n",
    "        if column != index_col_name:\n",
    "            df.plot(kind='line',x=index_col_name,y=column,ax=ax)\n",
    "    if pdf is None:\n",
    "        plt.show()\n",
    "    else:\n",
    "        pdf.savefig(fig)\n",
    "        plt.close()\n",
    "    return df\n",
    "    "
   ]
  },
  {
   "cell_type": "code",
   "execution_count": null,
   "metadata": {},
   "outputs": [],
   "source": [
    "index_col_name='Num clusters'\n",
    "df = plot_figure_by_type(index_col_name, figure_type='mean', is_prefix=False, normalise=True)\n",
    "\n"
   ]
  },
  {
   "cell_type": "code",
   "execution_count": null,
   "metadata": {},
   "outputs": [],
   "source": [
    "# pdf = PdfPages('unlabel_by_measurement_type-weighted.pdf')\n",
    "# pdf = PdfPages('wesley_adjacency_by_measurement_type-weighted.pdf')\n",
    "\n",
    "for figure_type in ['degree_centrality', 'eigen_centrality', 'closeness_centrality', 'out_degree_centrality', \n",
    "                    'in_degree_centrality', 'katz_centrality', 'current_flow_closeness_centrality', \n",
    "                    'information_centrality', 'betweenness_centrality', 'current_flow_betweenness_centrality', \n",
    "                    'approximate_current_flow_betweenness_centrality', 'communicability_betweenness_centrality', \n",
    "                    'load_centrality', 'harmonic_centrality', 'square_clustering', 'clustering', \n",
    "                    'average_neighbor_degree', 'average_degree_connectivity',\n",
    "                    'closeness_vitality', 'transitivity', 'average_clustering', 'approx_average_clustering', \n",
    "                    'average_shortest_path_length', 'global_reaching_centrality', 'node_connectivity', \n",
    "                    'degree_assortativity_coefficient']:\n",
    "#     index_col_name='Cutoff'\n",
    "#     plot_figure_by_type(index_col_name, figure_type, is_prefix=True)\n",
    "    index_col_name='Num clusters'\n",
    "    plot_figure_by_type(index_col_name, figure_type, is_prefix=True, normalise=False, pdf=None)\n",
    "\n",
    "# pdf.close()"
   ]
  },
  {
   "cell_type": "code",
   "execution_count": null,
   "metadata": {},
   "outputs": [],
   "source": [
    "# pdf = PdfPages('unlabel_by_stats-weighted.pdf')\n",
    "\n",
    "for figure_type in ['mean', 'median', 'std', 'max', 'min']:\n",
    "    index_col_name='Num clusters'\n",
    "    plot_figure_by_type(index_col_name, figure_type, is_prefix=False, normalise=True, pdf=None)\n",
    "\n",
    "# pdf.close()"
   ]
  },
  {
   "cell_type": "code",
   "execution_count": null,
   "metadata": {},
   "outputs": [],
   "source": []
  },
  {
   "cell_type": "code",
   "execution_count": null,
   "metadata": {},
   "outputs": [],
   "source": []
  }
 ],
 "metadata": {
  "kernelspec": {
   "display_name": "Django Shell-Plus",
   "language": "python",
   "name": "django_extensions"
  },
  "language_info": {
   "codemirror_mode": {
    "name": "ipython",
    "version": 3
   },
   "file_extension": ".py",
   "mimetype": "text/x-python",
   "name": "python",
   "nbconvert_exporter": "python",
   "pygments_lexer": "ipython3",
   "version": "3.6.8"
  }
 },
 "nbformat": 4,
 "nbformat_minor": 2
}
