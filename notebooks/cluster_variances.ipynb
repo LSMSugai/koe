{
 "cells": [
  {
   "cell_type": "code",
   "execution_count": 10,
   "metadata": {},
   "outputs": [],
   "source": [
    "%matplotlib inline\n",
    "import numpy as np\n",
    "from scipy.cluster.vq import kmeans\n",
    "from scipy.spatial.distance import cdist,pdist\n",
    "from sklearn import datasets\n",
    "from sklearn.decomposition import PCA\n",
    "from matplotlib import pyplot as plt\n",
    "from matplotlib import cm\n",
    "\n",
    "##### data #####\n",
    "# load digits dataset\n",
    "data = datasets.load_digits()\n",
    "t = data['target']"
   ]
  },
  {
   "cell_type": "code",
   "execution_count": 20,
   "metadata": {},
   "outputs": [],
   "source": [
    "# perform PCA dimensionality reduction\n",
    "pca = PCA(n_components=2, svd_solver='randomized').fit(data['data'])\n",
    "X = pca.transform(data['data'])\n",
    "\n",
    "k = 10\n",
    "\n",
    "cent, var = kmeans(X,k)\n",
    "D = cdist(X, cent, 'euclidean')\n",
    "cIdx = np.argmin(D,axis=1)\n",
    "dist = np.min(D,axis=1)\n",
    "\n",
    "tot_withins = sum(dist**2)\n",
    "tots = sum(pdist(X)**2)/X.shape[0]\n",
    "betweens = tots - tot_withins\n",
    "\n"
   ]
  },
  {
   "cell_type": "code",
   "execution_count": 27,
   "metadata": {},
   "outputs": [
    {
     "data": {
      "text/plain": [
       "5.046468494548365"
      ]
     },
     "execution_count": 27,
     "metadata": {},
     "output_type": "execute_result"
    }
   ],
   "source": [
    "var"
   ]
  },
  {
   "cell_type": "code",
   "execution_count": null,
   "metadata": {},
   "outputs": [],
   "source": []
  }
 ],
 "metadata": {
  "kernelspec": {
   "display_name": "Django Shell-Plus",
   "language": "python",
   "name": "django_extensions"
  },
  "language_info": {
   "codemirror_mode": {
    "name": "ipython",
    "version": 3
   },
   "file_extension": ".py",
   "mimetype": "text/x-python",
   "name": "python",
   "nbconvert_exporter": "python",
   "pygments_lexer": "ipython3",
   "version": "3.6.3"
  }
 },
 "nbformat": 4,
 "nbformat_minor": 2
}
