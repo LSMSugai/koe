{
 "cells": [
  {
   "cell_type": "code",
   "execution_count": null,
   "metadata": {},
   "outputs": [],
   "source": [
    "import pandas as pd\n",
    "import numpy as np\n",
    "import seaborn as sns\n",
    "%matplotlib inline\n",
    "\n",
    "%matplotlib inline\n",
    "import matplotlib.pyplot as plt\n",
    "from matplotlib.backends.backend_pdf import PdfPages\n",
    "\n",
    "from koe.model_utils import get_or_error\n",
    "from koe.models import Database\n",
    "from koe.sequence_utils import get_sequences\n",
    "from koe.storage_utils import get_sids_tids\n",
    "from root.models import User\n",
    "from koe.cluster_analysis_utils import SimpleNameMerger, NameMerger, get_syllable_labels\n",
    "from koe.sequence_utils import songs_to_syl_seqs\n",
    "from koe.sequence_utils import calc_class_ajacency, calc_class_dist_by_adjacency\n",
    "\n",
    "from nltk import ngrams\n",
    "\n",
    "from koe.models import Segment, AudioFile\n",
    "from root.models import ExtraAttr, ExtraAttrValue\n",
    "from collections import Counter"
   ]
  },
  {
   "cell_type": "code",
   "execution_count": null,
   "metadata": {},
   "outputs": [],
   "source": [
    "database = get_or_error(Database, dict(name='Bellbird_TMI'))\n",
    "annotator_name = 'wesley'\n",
    "label_level = 'label'\n",
    "\n",
    "sids, tids = get_sids_tids(database)\n",
    "annotator = get_or_error(User, dict(username__iexact=annotator_name))\n",
    "\n",
    "label_arr, syl_label_enum_arr = get_syllable_labels(annotator, label_level, sids)\n",
    "\n",
    "enum2label = {enum: label for enum, label in enumerate(label_arr)}\n",
    "sid2enumlabel = {sid: enum_label for sid, enum_label in zip(sids, syl_label_enum_arr)}\n",
    "\n",
    "adjacency_mat, classes_info = calc_class_ajacency(database, syl_label_enum_arr, enum2label, sid2enumlabel,\n",
    "                                                  symmetric=False, count_circular=False)\n",
    "\n",
    "distmat = calc_class_dist_by_adjacency(adjacency_mat, syl_label_enum_arr, return_triu=False)"
   ]
  },
  {
   "cell_type": "code",
   "execution_count": null,
   "metadata": {},
   "outputs": [],
   "source": [
    "counter = Counter(syl_label_enum_arr)\n",
    "nlabels = len(counter)\n",
    "frequencies = np.array([counter[i] for i in range(nlabels)])\n",
    "\n",
    "adjacency_mat_fw_norm = adjacency_mat / frequencies[:, None]\n",
    "adjacency_mat_bw_norm = adjacency_mat / frequencies\n",
    "\n",
    "coordinates = np.concatenate((adjacency_mat_fw_norm, adjacency_mat_bw_norm), axis=1)\n",
    "\n",
    "# df_norm = pd.DataFrame(distmat, columns=label_arr, index=label_arr)\n",
    "# df_norm.style.background_gradient(cmap='Blues')"
   ]
  },
  {
   "cell_type": "code",
   "execution_count": null,
   "metadata": {},
   "outputs": [],
   "source": [
    "import plotly.plotly as py\n",
    "import plotly.figure_factory as ff\n",
    "from scipy.cluster import hierarchy\n",
    "\n",
    "import numpy as np\n",
    "\n",
    "\n",
    "def plot_spectrogram(mat, name, pdf=None):\n",
    "    # Calculate the distance between each sample\n",
    "    Z = hierarchy.linkage(mat, 'average')\n",
    "\n",
    "    fig = plt.figure(figsize=(18,18))\n",
    "    ax = fig.gca()\n",
    "    ax.set_title(name)\n",
    "    hierarchy.dendrogram(\n",
    "        Z,\n",
    "        labels=label_arr,\n",
    "        leaf_font_size=12.,\n",
    "        orientation='right'\n",
    "    )\n",
    "    if pdf:\n",
    "        pdf.savefig(fig)\n",
    "        plt.close()\n",
    "    else:\n",
    "        plt.show()\n",
    "\n",
    "pdf = PdfPages('dendrogram.pdf')\n",
    "mats = {\n",
    "    'Using adjacency matrix (forward direction A->B)': adjacency_mat_fw_norm,\n",
    "    'Using adjacency matrix (backward direction A->B)': adjacency_mat_bw_norm,\n",
    "    'Using both adjacency matrices': coordinates,\n",
    "}\n",
    "for name, mat in mats.items():\n",
    "    plot_spectrogram(mat, name, pdf)\n",
    "\n",
    "pdf.close()"
   ]
  },
  {
   "cell_type": "code",
   "execution_count": null,
   "metadata": {
    "scrolled": false
   },
   "outputs": [],
   "source": [
    "dendro_fw = ff.create_dendrogram(adjacency_mat_fw_norm, color_threshold=2, orientation='left', labels=label_arr)\n",
    "dendro_fw['layout'].update({'width':1000, 'height':1700})\n",
    "py.iplot(dendro_fw, filename='adjacency_mat_fw_norm')"
   ]
  },
  {
   "cell_type": "code",
   "execution_count": null,
   "metadata": {},
   "outputs": [],
   "source": [
    "hierarchy.dendrogram(Z, leaf_rotation=90, leaf_font_size=8, labels=df.index)"
   ]
  }
 ],
 "metadata": {
  "kernelspec": {
   "display_name": "Django Shell-Plus",
   "language": "python",
   "name": "django_extensions"
  },
  "language_info": {
   "codemirror_mode": {
    "name": "ipython",
    "version": 3
   },
   "file_extension": ".py",
   "mimetype": "text/x-python",
   "name": "python",
   "nbconvert_exporter": "python",
   "pygments_lexer": "ipython3",
   "version": "3.6.8"
  }
 },
 "nbformat": 4,
 "nbformat_minor": 2
}
